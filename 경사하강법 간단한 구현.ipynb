{
 "cells": [
  {
   "cell_type": "code",
   "execution_count": 1,
   "id": "ea0d888d",
   "metadata": {},
   "outputs": [
    {
     "name": "stdout",
     "output_type": "stream",
     "text": [
      "[1.34144037 2.00762734 2.4294716 ]\n"
     ]
    }
   ],
   "source": [
    "# numpy를 활용한 경사하강법 수행 예시\n",
    "import numpy as np\n",
    "X = np.array([[1,1],[1,2],[2,2],[2,3]])\n",
    "y = np.dot(X, np.array([1,2])) + 3\n",
    "beta_gd = [10.1, 15.1, -6.5] # [1,2,3]이 정답 - 지금 값은 무작위 값\n",
    "\n",
    "# intercept항 추가\n",
    "# y 절편을 추가하면, y = ax + b의 b가 bias term의 역할을 해서 계산이 용이하다.\n",
    "\n",
    "X_ = np.array([np.append(x,[1]) for x in X])\n",
    "for t in range(1000):\n",
    "    error = y - X_ @ beta_gd\n",
    "    # error = error / np.linalg.norm(error)\n",
    "    grad = - np.transpose(X_) @ error\n",
    "    beta_gd = beta_gd - 0.01 * grad\n",
    "print(beta_gd)\n",
    "# [1.34144037 2.00762734 2.4294716 ]"
   ]
  },
  {
   "cell_type": "code",
   "execution_count": 4,
   "id": "596b145b",
   "metadata": {},
   "outputs": [
    {
     "data": {
      "text/latex": [
       "$\\displaystyle 6 x + 5 y - 2 \\sin{\\left(2 x + 2 y \\right)}$"
      ],
      "text/plain": [
       "6*x + 5*y - 2*sin(2*x + 2*y)"
      ]
     },
     "execution_count": 4,
     "metadata": {},
     "output_type": "execute_result"
    }
   ],
   "source": [
    "import sympy as sym\n",
    "from sympy.abc import x,y\n",
    "import warnings\n",
    "warnings.filterwarnings(action='ignore')\n",
    "\n",
    "sym.diff(sym.poly(3*(x**2) + 5*x*y + 2*y + 1) + sym.cos(2*x + 2*y), x)\n",
    "\n",
    "# 6𝑥+5𝑦−2sin(2𝑥+2𝑦)"
   ]
  },
  {
   "cell_type": "code",
   "execution_count": null,
   "id": "f609daf9",
   "metadata": {},
   "outputs": [],
   "source": []
  }
 ],
 "metadata": {
  "kernelspec": {
   "display_name": "Python 3 (ipykernel)",
   "language": "python",
   "name": "python3"
  },
  "language_info": {
   "codemirror_mode": {
    "name": "ipython",
    "version": 3
   },
   "file_extension": ".py",
   "mimetype": "text/x-python",
   "name": "python",
   "nbconvert_exporter": "python",
   "pygments_lexer": "ipython3",
   "version": "3.10.9"
  }
 },
 "nbformat": 4,
 "nbformat_minor": 5
}
